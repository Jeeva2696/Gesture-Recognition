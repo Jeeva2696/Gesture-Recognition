{
 "cells": [
  {
   "cell_type": "markdown",
   "metadata": {},
   "source": [
    "# Gesture Recognition Case study\n",
    "#### By- Jeeva Thangaraj\n",
    "####        Nitesh Kumar Singh"
   ]
  },
  {
   "cell_type": "markdown",
   "metadata": {},
   "source": [
    "### Problem Statement\n",
    "Imagine you are working as a data scientist at a home electronics company which manufactures state of the art smart televisions. You want to develop a cool feature in the smart-TV that can recognise five different gestures performed by the user which will help users control the TV without using a remote.\n",
    "\n",
    "Each video is a sequence of 30 frames (or images)."
   ]
  },
  {
   "cell_type": "code",
   "execution_count": 77,
   "metadata": {},
   "outputs": [],
   "source": [
    "# Importing the necessary libraries\n",
    "import numpy as np\n",
    "import datetime\n",
    "import os\n",
    "import cv2\n",
    "import random as rn\n",
    "import tensorflow as tf\n",
    "from keras import backend as K"
   ]
  },
  {
   "cell_type": "code",
   "execution_count": 78,
   "metadata": {},
   "outputs": [],
   "source": [
    "import matplotlib.pyplot as plt\n",
    "% matplotlib inline"
   ]
  },
  {
   "cell_type": "code",
   "execution_count": 79,
   "metadata": {},
   "outputs": [],
   "source": [
    "# importing some other libraries which will be needed for model building.\n",
    "from keras.callbacks import ModelCheckpoint, ReduceLROnPlateau\n",
    "from keras.losses import categorical_crossentropy\n",
    "from keras.optimizers import Adam\n",
    "from keras.models import Sequential, Model\n",
    "from keras.layers import Dense, GRU, Flatten, TimeDistributed, Flatten, BatchNormalization\n",
    "from keras.layers import Activation, Dropout, ZeroPadding3D\n",
    "from keras.layers.convolutional import Conv2D, MaxPooling3D, Conv3D, MaxPooling2D\n",
    "from keras.layers.recurrent import LSTM"
   ]
  },
  {
   "cell_type": "code",
   "execution_count": 80,
   "metadata": {},
   "outputs": [],
   "source": [
    "np.random.seed(30)\n",
    "rn.seed(30)\n",
    "tf.set_random_seed(30)\n",
    "train_path = './Project_data/train'\n",
    "val_path = './Project_data/val'\n",
    "train_doc = np.random.permutation(open('./Project_data/train.csv').readlines())\n",
    "val_doc = np.random.permutation(open('./Project_data/val.csv').readlines())\n",
    "batch_size = 10 #experiment with the batch size"
   ]
  },
  {
   "cell_type": "code",
   "execution_count": 81,
   "metadata": {},
   "outputs": [],
   "source": [
    "train_doc = np.random.permutation(open('Project_data/train.csv').readlines())\n",
    "val_doc = np.random.permutation(open('Project_data/val.csv').readlines())\n",
    "batch_size = 10 #experiment with the batch size"
   ]
  },
  {
   "cell_type": "code",
   "execution_count": 82,
   "metadata": {},
   "outputs": [],
   "source": [
    "# Parameters initialization\n",
    "nb_rows = 120   # X dimension of the image\n",
    "nb_cols = 120   # Y dimesnion of the image\n",
    "total_frames = 30\n",
    "nb_frames = 30  # lenght of the video frames\n",
    "nb_channel = 3 # numbe rof channels in images 3 for color(RGB) and 1 for Gray"
   ]
  },
  {
   "cell_type": "markdown",
   "metadata": {},
   "source": [
    "## Generator\n",
    "This is one of the most important part of the code. The overall structure of the generator is broken down into modules. In the generator, we are going to preprocess the images as we have images of 2 different dimensions as well as create a batch of video frames. "
   ]
  },
  {
   "cell_type": "code",
   "execution_count": 83,
   "metadata": {},
   "outputs": [],
   "source": [
    "def get_random_affine():\n",
    "    dx, dy = np.random.randint(-1.7, 1.8, 2)\n",
    "    M = np.float32([[1, 0, dx], [0, 1, dy]])\n",
    "    return M"
   ]
  },
  {
   "cell_type": "code",
   "execution_count": 84,
   "metadata": {},
   "outputs": [],
   "source": [
    "def init_batch_data(batch_size):\n",
    "    batch_data = np.zeros((batch_size, nb_frames, nb_rows, nb_cols, nb_channel)) \n",
    "    batch_labels = np.zeros((batch_size,5)) # batch_labels is the one hot representation of the output\n",
    "    return batch_data, batch_labels"
   ]
  },
  {
   "cell_type": "code",
   "execution_count": 85,
   "metadata": {},
   "outputs": [],
   "source": [
    "def load_batch_images(source_path, folder_list, batch_num, batch_size, t,validation):\n",
    "    \n",
    "    batch_data,batch_labels = init_batch_data(batch_size)\n",
    "    \n",
    "    # We will also build an augumented batch data with affine transformation\n",
    "    batch_data_aug,batch_labels_aug = init_batch_data(batch_size)\n",
    "    \n",
    "    # We will also build an augmented batch data with horizontal flip\n",
    "    batch_data_flip,batch_labels_flip = init_batch_data(batch_size)\n",
    "    \n",
    "    #create a list of image numbers you want to use for a particular video using full frames\n",
    "    img_idx = [x for x in range(0, nb_frames)] \n",
    "\n",
    "    for folder in range(batch_size): # iterate over the batch_size\n",
    "        # read all the images in the folder\n",
    "        imgs = sorted(os.listdir(source_path+'/'+ t[folder + (batch_num*batch_size)].split(';')[0])) \n",
    "        # Generate a random affine to be used in image transformation for buidling agumented data set\n",
    "        M = get_random_affine()\n",
    "        \n",
    "        #  Iterate over the frames/images of a folder to read them in\n",
    "        for idx, item in enumerate(img_idx): \n",
    "            ## image = imread(source_path+'/'+ t[folder + (batch_num*batch_size)].strip().split(';')[0]+'/'+imgs[item]).astype(np.float32)\n",
    "            image = cv2.imread(source_path+'/'+ t[folder + (batch_num*batch_size)].strip().split(';')[0]+'/'+imgs[item], cv2.IMREAD_COLOR)\n",
    "            image = cv2.cvtColor(image, cv2.COLOR_BGR2RGB)\n",
    "            \n",
    "            # Cropping non symmetric frames\n",
    "            if image.shape[0] != image.shape[1]:\n",
    "                image=image[0:120,20:140]\n",
    "            \n",
    "            #crop the images and resize them. Note that the images are of 2 different shape \n",
    "            #and the conv3D will throw error if the inputs in a batch have different shapes   \n",
    "            resized = cv2.resize(image, (nb_rows,nb_cols), interpolation = cv2.INTER_AREA)\n",
    "            #Normal data\n",
    "            batch_data[folder,idx] = (resized)\n",
    "            \n",
    "            #Data with affine transformation\n",
    "            batch_data_aug[folder,idx] = (cv2.warpAffine(resized, M, (resized.shape[0], resized.shape[1])))\n",
    "            \n",
    "            # Data with horizontal flip\n",
    "            batch_data_flip[folder,idx]= np.flip(resized,1)\n",
    "\n",
    "        batch_labels[folder, int(t[folder + (batch_num*batch_size)].strip().split(';')[2])] = 1\n",
    "        batch_labels_aug[folder, int(t[folder + (batch_num*batch_size)].strip().split(';')[2])] = 1\n",
    "        \n",
    "        # Labeling data with horizobtal flip, right swipe becomes left swipe and viceversa\n",
    "        if int(t[folder + (batch_num*batch_size)].strip().split(';')[2])==0:\n",
    "                    batch_labels_flip[folder, 1] = 1\n",
    "        elif int(t[folder + (batch_num*batch_size)].strip().split(';')[2])==1:\n",
    "                    batch_labels_flip[folder, 0] = 1\n",
    "                    \n",
    "        else:\n",
    "                    batch_labels_flip[folder, int(t[folder + (batch_num*batch_size)].strip().split(';')[2])] = 1\n",
    "                  \n",
    "    \n",
    "    batch_data_final = np.append(batch_data, batch_data_aug, axis = 0)\n",
    "    batch_data_final = np.append(batch_data_final, batch_data_flip, axis = 0)\n",
    "\n",
    "    batch_labels_final = np.append(batch_labels, batch_labels_aug, axis = 0) \n",
    "    batch_labels_final = np.append(batch_labels_final, batch_labels_flip, axis = 0)\n",
    "    \n",
    "    if validation:\n",
    "        batch_data_final=batch_data\n",
    "        batch_labels_final= batch_labels\n",
    "        \n",
    "    return batch_data_final,batch_labels_final"
   ]
  },
  {
   "cell_type": "code",
   "execution_count": 86,
   "metadata": {},
   "outputs": [],
   "source": [
    "def generator(source_path, folder_list, batch_size, validation=False):\n",
    "    print( 'Source path = ', source_path, '; batch size =', batch_size)\n",
    "    while True:\n",
    "        t = np.random.permutation(folder_list)\n",
    "        num_batches = len(folder_list)//batch_size # calculate the number of batches\n",
    "        for batch in range(num_batches): # we iterate over the number of batches\n",
    "            # you yield the batch_data and the batch_labels, remember what does yield do\n",
    "            yield load_batch_images(source_path, folder_list, batch, batch_size, t,validation)\n",
    "            \n",
    "\n",
    "        \n",
    "        # Code for the remaining data points which are left after full batches\n",
    "        if (len(folder_list) != batch_size*num_batches):\n",
    "            batch_size = len(folder_list) - (batch_size*num_batches)\n",
    "            yield load_batch_images(source_path, folder_list, batch, batch_size, t,validation)\n",
    "\n",
    "\n",
    "\n",
    "# Helper function to flip the image\n",
    "def __flip(self, image):\n",
    "        return np.flip(image,1)\n",
    "    \n",
    "# Helper function to normalise the data\n",
    "def __normalize(self, image):\n",
    "        return image/127.5-1\n",
    "    \n",
    "# Helper function to resize the image\n",
    "def __resize(self, image):\n",
    "        return cv2.resize(image, (self.width,self.height), interpolation = cv2.INTER_AREA)\n",
    "    \n",
    "# Helper function to crop the image\n",
    "def __crop(self, image):\n",
    "    if image.shape[0] != image.shape[1]:\n",
    "        return image[0:120, 20:140]\n",
    "    else:\n",
    "        return image"
   ]
  },
  {
   "cell_type": "code",
   "execution_count": 87,
   "metadata": {},
   "outputs": [
    {
     "name": "stdout",
     "output_type": "stream",
     "text": [
      "# training sequences = 663\n",
      "# validation sequences = 100\n",
      "# epochs = 10\n"
     ]
    }
   ],
   "source": [
    "curr_dt_time = datetime.datetime.now()\n",
    "train_path = 'Project_data/train'\n",
    "val_path = 'Project_data/val'\n",
    "num_train_sequences = len(train_doc)\n",
    "print('# training sequences =', num_train_sequences)\n",
    "num_val_sequences = len(val_doc)\n",
    "print('# validation sequences =', num_val_sequences)\n",
    "num_epochs = 10 # choose the number of epochs\n",
    "print ('# epochs =', num_epochs)"
   ]
  },
  {
   "cell_type": "markdown",
   "metadata": {},
   "source": [
    "## Final Model"
   ]
  },
  {
   "cell_type": "code",
   "execution_count": 88,
   "metadata": {},
   "outputs": [],
   "source": [
    "nb_filters = [8,16,32,64]\n",
    "nb_dense = [256, 128, 5]\n",
    "\n",
    "# Input\n",
    "input_shape=(nb_frames,nb_rows,nb_cols,nb_channel)\n",
    "\n",
    "# Define model\n",
    "model = Sequential()\n",
    "\n",
    "model.add(Conv3D(nb_filters[0], \n",
    "                 kernel_size=(3,3,3), \n",
    "                 input_shape=input_shape,\n",
    "                 padding='same'))\n",
    "model.add(BatchNormalization())\n",
    "model.add(Activation('relu'))\n",
    "\n",
    "model.add(MaxPooling3D(pool_size=(2,2,2)))\n",
    "\n",
    "model.add(Conv3D(nb_filters[1], \n",
    "                 kernel_size=(3,3,3), \n",
    "                 padding='same'))\n",
    "model.add(BatchNormalization())\n",
    "model.add(Activation('relu'))\n",
    "\n",
    "model.add(MaxPooling3D(pool_size=(2,2,2)))\n",
    "\n",
    "model.add(Conv3D(nb_filters[2], \n",
    "                 kernel_size=(1,3,3), \n",
    "                 padding='same'))\n",
    "model.add(BatchNormalization())\n",
    "model.add(Activation('relu'))\n",
    "\n",
    "model.add(MaxPooling3D(pool_size=(2,2,2)))\n",
    "\n",
    "model.add(Conv3D(nb_filters[3], \n",
    "                 kernel_size=(1,3,3), \n",
    "                 padding='same'))\n",
    "model.add(Activation('relu'))\n",
    "model.add(Dropout(0.25))\n",
    "\n",
    "model.add(MaxPooling3D(pool_size=(2,2,2)))\n",
    "\n",
    "#Flatten Layers\n",
    "model.add(Flatten())\n",
    "\n",
    "model.add(Dense(nb_dense[0], activation='relu'))\n",
    "model.add(Dropout(0.25))\n",
    "\n",
    "model.add(Dense(nb_dense[1], activation='relu'))\n",
    "model.add(Dropout(0.25))\n",
    "\n",
    "#softmax layer\n",
    "model.add(Dense(nb_dense[2], activation='softmax'))"
   ]
  },
  {
   "cell_type": "code",
   "execution_count": 89,
   "metadata": {},
   "outputs": [
    {
     "name": "stdout",
     "output_type": "stream",
     "text": [
      "_________________________________________________________________\n",
      "Layer (type)                 Output Shape              Param #   \n",
      "=================================================================\n",
      "conv3d_13 (Conv3D)           (None, 30, 120, 120, 8)   656       \n",
      "_________________________________________________________________\n",
      "batch_normalization_10 (Batc (None, 30, 120, 120, 8)   32        \n",
      "_________________________________________________________________\n",
      "activation_13 (Activation)   (None, 30, 120, 120, 8)   0         \n",
      "_________________________________________________________________\n",
      "max_pooling3d_13 (MaxPooling (None, 15, 60, 60, 8)     0         \n",
      "_________________________________________________________________\n",
      "conv3d_14 (Conv3D)           (None, 15, 60, 60, 16)    3472      \n",
      "_________________________________________________________________\n",
      "batch_normalization_11 (Batc (None, 15, 60, 60, 16)    64        \n",
      "_________________________________________________________________\n",
      "activation_14 (Activation)   (None, 15, 60, 60, 16)    0         \n",
      "_________________________________________________________________\n",
      "max_pooling3d_14 (MaxPooling (None, 7, 30, 30, 16)     0         \n",
      "_________________________________________________________________\n",
      "conv3d_15 (Conv3D)           (None, 7, 30, 30, 32)     4640      \n",
      "_________________________________________________________________\n",
      "batch_normalization_12 (Batc (None, 7, 30, 30, 32)     128       \n",
      "_________________________________________________________________\n",
      "activation_15 (Activation)   (None, 7, 30, 30, 32)     0         \n",
      "_________________________________________________________________\n",
      "max_pooling3d_15 (MaxPooling (None, 3, 15, 15, 32)     0         \n",
      "_________________________________________________________________\n",
      "conv3d_16 (Conv3D)           (None, 3, 15, 15, 64)     18496     \n",
      "_________________________________________________________________\n",
      "activation_16 (Activation)   (None, 3, 15, 15, 64)     0         \n",
      "_________________________________________________________________\n",
      "dropout_10 (Dropout)         (None, 3, 15, 15, 64)     0         \n",
      "_________________________________________________________________\n",
      "max_pooling3d_16 (MaxPooling (None, 1, 7, 7, 64)       0         \n",
      "_________________________________________________________________\n",
      "flatten_4 (Flatten)          (None, 3136)              0         \n",
      "_________________________________________________________________\n",
      "dense_10 (Dense)             (None, 256)               803072    \n",
      "_________________________________________________________________\n",
      "dropout_11 (Dropout)         (None, 256)               0         \n",
      "_________________________________________________________________\n",
      "dense_11 (Dense)             (None, 128)               32896     \n",
      "_________________________________________________________________\n",
      "dropout_12 (Dropout)         (None, 128)               0         \n",
      "_________________________________________________________________\n",
      "dense_12 (Dense)             (None, 5)                 645       \n",
      "=================================================================\n",
      "Total params: 864,101\n",
      "Trainable params: 863,989\n",
      "Non-trainable params: 112\n",
      "_________________________________________________________________\n",
      "None\n"
     ]
    }
   ],
   "source": [
    "optimiser = Adam() #write your optimizer\n",
    "model.compile(optimizer=optimiser, loss='categorical_crossentropy', metrics=['categorical_accuracy'])\n",
    "print (model.summary())"
   ]
  },
  {
   "cell_type": "code",
   "execution_count": 90,
   "metadata": {},
   "outputs": [],
   "source": [
    "train_generator = generator(train_path, train_doc,batch_size=10)\n",
    "val_generator = generator(val_path, val_doc, batch_size=10,validation=True)"
   ]
  },
  {
   "cell_type": "code",
   "execution_count": 91,
   "metadata": {},
   "outputs": [],
   "source": [
    "model_name = 'model_init' + '_' + str(curr_dt_time).replace(' ','').replace(':','_') + '/'\n",
    "    \n",
    "if not os.path.exists(model_name):\n",
    "    os.mkdir(model_name)\n",
    "        \n",
    "filepath = model_name + 'model-{epoch:05d}-{loss:.5f}-{categorical_accuracy:.5f}-{val_loss:.5f}-{val_categorical_accuracy:.5f}.h5'\n",
    "\n",
    "checkpoint = ModelCheckpoint(filepath, monitor='val_loss', verbose=1, save_best_only=False, save_weights_only=False, mode='auto', period=1)\n",
    "\n",
    "# write the Reducelronplateau code here\n",
    "LR = ReduceLROnPlateau(monitor='val_loss', factor=0.5, patience=2, cooldown=1, verbose=1)\n",
    "callbacks_list = [checkpoint, LR]"
   ]
  },
  {
   "cell_type": "code",
   "execution_count": 92,
   "metadata": {},
   "outputs": [
    {
     "data": {
      "text/plain": [
       "66"
      ]
     },
     "execution_count": 92,
     "metadata": {},
     "output_type": "execute_result"
    }
   ],
   "source": [
    "num_train_sequences//10"
   ]
  },
  {
   "cell_type": "code",
   "execution_count": 93,
   "metadata": {},
   "outputs": [
    {
     "data": {
      "text/plain": [
       "10.0"
      ]
     },
     "execution_count": 93,
     "metadata": {},
     "output_type": "execute_result"
    }
   ],
   "source": [
    "num_val_sequences/10"
   ]
  },
  {
   "cell_type": "code",
   "execution_count": 96,
   "metadata": {},
   "outputs": [],
   "source": [
    "batch_size = 20\n",
    "num_epochs = 30\n",
    "\n",
    "if (num_train_sequences%batch_size) == 0:\n",
    "    steps_per_epoch = int(num_train_sequences/batch_size)\n",
    "else:\n",
    "    steps_per_epoch = (num_train_sequences//batch_size) + 1\n",
    "\n",
    "if (num_val_sequences%batch_size) == 0:\n",
    "    validation_steps = int(num_val_sequences/batch_size)\n",
    "else:\n",
    "    validation_steps = (num_val_sequences//batch_size) + 1"
   ]
  },
  {
   "cell_type": "code",
   "execution_count": 97,
   "metadata": {},
   "outputs": [
    {
     "name": "stdout",
     "output_type": "stream",
     "text": [
      "Epoch 1/30\n",
      "34/34 [==============================] - 49s 1s/step - loss: 1.4373 - categorical_accuracy: 0.3667 - val_loss: 1.8378 - val_categorical_accuracy: 0.3600\n",
      "\n",
      "Epoch 00001: saving model to model_init_2020-11-0915_09_01.811273/model-00001-1.43731-0.36667-1.83779-0.36000.h5\n",
      "Epoch 2/30\n",
      "34/34 [==============================] - 26s 753ms/step - loss: 1.2313 - categorical_accuracy: 0.4946 - val_loss: 1.3645 - val_categorical_accuracy: 0.4800\n",
      "\n",
      "Epoch 00002: saving model to model_init_2020-11-0915_09_01.811273/model-00002-1.20032-0.49833-1.36447-0.48000.h5\n",
      "Epoch 3/30\n",
      "34/34 [==============================] - 14s 425ms/step - loss: 1.2417 - categorical_accuracy: 0.5425 - val_loss: 1.3695 - val_categorical_accuracy: 0.4800\n",
      "\n",
      "Epoch 00003: saving model to model_init_2020-11-0915_09_01.811273/model-00003-1.24169-0.54248-1.36947-0.48000.h5\n",
      "Epoch 4/30\n",
      "34/34 [==============================] - 15s 446ms/step - loss: 1.2912 - categorical_accuracy: 0.4379 - val_loss: 1.1453 - val_categorical_accuracy: 0.5400\n",
      "\n",
      "Epoch 00004: saving model to model_init_2020-11-0915_09_01.811273/model-00004-1.29118-0.43791-1.14533-0.54000.h5\n",
      "Epoch 5/30\n",
      "34/34 [==============================] - 14s 426ms/step - loss: 1.3724 - categorical_accuracy: 0.4673 - val_loss: 1.6933 - val_categorical_accuracy: 0.2800\n",
      "\n",
      "Epoch 00005: saving model to model_init_2020-11-0915_09_01.811273/model-00005-1.37237-0.46732-1.69325-0.28000.h5\n",
      "Epoch 6/30\n",
      "34/34 [==============================] - 14s 423ms/step - loss: 1.1742 - categorical_accuracy: 0.5556 - val_loss: 1.0058 - val_categorical_accuracy: 0.5200\n",
      "\n",
      "Epoch 00006: saving model to model_init_2020-11-0915_09_01.811273/model-00006-1.17417-0.55556-1.00582-0.52000.h5\n",
      "Epoch 7/30\n",
      "34/34 [==============================] - 15s 430ms/step - loss: 1.1731 - categorical_accuracy: 0.5425 - val_loss: 1.0110 - val_categorical_accuracy: 0.5200\n",
      "\n",
      "Epoch 00007: saving model to model_init_2020-11-0915_09_01.811273/model-00007-1.17306-0.54248-1.01096-0.52000.h5\n",
      "Epoch 8/30\n",
      "34/34 [==============================] - 14s 424ms/step - loss: 1.2025 - categorical_accuracy: 0.5523 - val_loss: 1.1253 - val_categorical_accuracy: 0.5600\n",
      "\n",
      "Epoch 00008: saving model to model_init_2020-11-0915_09_01.811273/model-00008-1.20249-0.55229-1.12532-0.56000.h5\n",
      "\n",
      "Epoch 00008: ReduceLROnPlateau reducing learning rate to 0.0005000000237487257.\n",
      "Epoch 9/30\n",
      "34/34 [==============================] - 15s 432ms/step - loss: 0.9204 - categorical_accuracy: 0.6503 - val_loss: 1.1768 - val_categorical_accuracy: 0.5000\n",
      "\n",
      "Epoch 00009: saving model to model_init_2020-11-0915_09_01.811273/model-00009-0.92038-0.65033-1.17681-0.50000.h5\n",
      "Epoch 10/30\n",
      "34/34 [==============================] - 14s 417ms/step - loss: 0.9465 - categorical_accuracy: 0.6111 - val_loss: 0.9359 - val_categorical_accuracy: 0.6400\n",
      "\n",
      "Epoch 00010: saving model to model_init_2020-11-0915_09_01.811273/model-00010-0.94647-0.61111-0.93590-0.64000.h5\n",
      "Epoch 11/30\n",
      "34/34 [==============================] - 14s 409ms/step - loss: 1.0493 - categorical_accuracy: 0.5621 - val_loss: 0.9290 - val_categorical_accuracy: 0.6000\n",
      "\n",
      "Epoch 00011: saving model to model_init_2020-11-0915_09_01.811273/model-00011-1.04928-0.56209-0.92901-0.60000.h5\n",
      "Epoch 12/30\n",
      "34/34 [==============================] - 15s 429ms/step - loss: 1.0022 - categorical_accuracy: 0.5882 - val_loss: 0.8971 - val_categorical_accuracy: 0.6200\n",
      "\n",
      "Epoch 00012: saving model to model_init_2020-11-0915_09_01.811273/model-00012-1.00215-0.58824-0.89706-0.62000.h5\n",
      "Epoch 13/30\n",
      "34/34 [==============================] - 15s 434ms/step - loss: 0.9164 - categorical_accuracy: 0.6863 - val_loss: 0.7069 - val_categorical_accuracy: 0.7400\n",
      "\n",
      "Epoch 00013: saving model to model_init_2020-11-0915_09_01.811273/model-00013-0.91637-0.68627-0.70693-0.74000.h5\n",
      "Epoch 14/30\n",
      "34/34 [==============================] - 15s 448ms/step - loss: 0.8257 - categorical_accuracy: 0.7059 - val_loss: 0.8489 - val_categorical_accuracy: 0.7000\n",
      "\n",
      "Epoch 00014: saving model to model_init_2020-11-0915_09_01.811273/model-00014-0.82574-0.70588-0.84891-0.70000.h5\n",
      "Epoch 15/30\n",
      "34/34 [==============================] - 15s 442ms/step - loss: 0.6845 - categorical_accuracy: 0.7582 - val_loss: 0.5887 - val_categorical_accuracy: 0.8200\n",
      "\n",
      "Epoch 00015: saving model to model_init_2020-11-0915_09_01.811273/model-00015-0.68446-0.75817-0.58869-0.82000.h5\n",
      "Epoch 16/30\n",
      "34/34 [==============================] - 14s 425ms/step - loss: 0.9076 - categorical_accuracy: 0.6307 - val_loss: 0.8751 - val_categorical_accuracy: 0.6200\n",
      "\n",
      "Epoch 00016: saving model to model_init_2020-11-0915_09_01.811273/model-00016-0.90763-0.63072-0.87514-0.62000.h5\n",
      "Epoch 17/30\n",
      "34/34 [==============================] - 15s 451ms/step - loss: 0.7409 - categorical_accuracy: 0.7157 - val_loss: 1.1645 - val_categorical_accuracy: 0.5400\n",
      "\n",
      "Epoch 00017: saving model to model_init_2020-11-0915_09_01.811273/model-00017-0.74094-0.71569-1.16449-0.54000.h5\n",
      "\n",
      "Epoch 00017: ReduceLROnPlateau reducing learning rate to 0.0002500000118743628.\n",
      "Epoch 18/30\n",
      "34/34 [==============================] - 14s 415ms/step - loss: 0.6603 - categorical_accuracy: 0.7614 - val_loss: 0.6838 - val_categorical_accuracy: 0.7400\n",
      "\n",
      "Epoch 00018: saving model to model_init_2020-11-0915_09_01.811273/model-00018-0.66034-0.76144-0.68383-0.74000.h5\n",
      "Epoch 19/30\n",
      "34/34 [==============================] - 14s 402ms/step - loss: 0.8162 - categorical_accuracy: 0.6667 - val_loss: 0.7604 - val_categorical_accuracy: 0.7200\n",
      "\n",
      "Epoch 00019: saving model to model_init_2020-11-0915_09_01.811273/model-00019-0.81620-0.66667-0.76038-0.72000.h5\n",
      "\n",
      "Epoch 00019: ReduceLROnPlateau reducing learning rate to 0.0001250000059371814.\n",
      "Epoch 20/30\n",
      "34/34 [==============================] - 14s 420ms/step - loss: 0.6372 - categorical_accuracy: 0.7810 - val_loss: 0.5954 - val_categorical_accuracy: 0.7800\n",
      "\n",
      "Epoch 00020: saving model to model_init_2020-11-0915_09_01.811273/model-00020-0.63717-0.78105-0.59544-0.78000.h5\n",
      "Epoch 21/30\n",
      "34/34 [==============================] - 15s 438ms/step - loss: 0.6143 - categorical_accuracy: 0.7908 - val_loss: 0.5629 - val_categorical_accuracy: 0.7600\n",
      "\n",
      "Epoch 00021: saving model to model_init_2020-11-0915_09_01.811273/model-00021-0.61425-0.79085-0.56290-0.76000.h5\n",
      "Epoch 22/30\n",
      "34/34 [==============================] - 14s 417ms/step - loss: 0.6312 - categorical_accuracy: 0.7418 - val_loss: 0.6359 - val_categorical_accuracy: 0.7200\n",
      "\n",
      "Epoch 00022: saving model to model_init_2020-11-0915_09_01.811273/model-00022-0.63125-0.74183-0.63594-0.72000.h5\n",
      "Epoch 23/30\n",
      "34/34 [==============================] - 14s 426ms/step - loss: 0.3965 - categorical_accuracy: 0.8464 - val_loss: 0.6932 - val_categorical_accuracy: 0.7000\n",
      "\n",
      "Epoch 00023: saving model to model_init_2020-11-0915_09_01.811273/model-00023-0.39653-0.84641-0.69317-0.70000.h5\n",
      "\n",
      "Epoch 00023: ReduceLROnPlateau reducing learning rate to 6.25000029685907e-05.\n",
      "Epoch 24/30\n",
      "34/34 [==============================] - 15s 436ms/step - loss: 0.5084 - categorical_accuracy: 0.8137 - val_loss: 0.5229 - val_categorical_accuracy: 0.7600\n",
      "\n",
      "Epoch 00024: saving model to model_init_2020-11-0915_09_01.811273/model-00024-0.50837-0.81373-0.52286-0.76000.h5\n",
      "Epoch 25/30\n",
      "34/34 [==============================] - 15s 442ms/step - loss: 0.5185 - categorical_accuracy: 0.8203 - val_loss: 0.6038 - val_categorical_accuracy: 0.7200\n",
      "\n",
      "Epoch 00025: saving model to model_init_2020-11-0915_09_01.811273/model-00025-0.51850-0.82026-0.60381-0.72000.h5\n",
      "Epoch 26/30\n",
      "34/34 [==============================] - 15s 427ms/step - loss: 0.4790 - categorical_accuracy: 0.8431 - val_loss: 0.5663 - val_categorical_accuracy: 0.7800\n",
      "\n",
      "Epoch 00026: saving model to model_init_2020-11-0915_09_01.811273/model-00026-0.47903-0.84314-0.56628-0.78000.h5\n",
      "\n",
      "Epoch 00026: ReduceLROnPlateau reducing learning rate to 3.125000148429535e-05.\n",
      "Epoch 27/30\n",
      "34/34 [==============================] - 14s 411ms/step - loss: 0.5706 - categorical_accuracy: 0.7647 - val_loss: 0.4814 - val_categorical_accuracy: 0.8200\n",
      "\n",
      "Epoch 00027: saving model to model_init_2020-11-0915_09_01.811273/model-00027-0.57058-0.76471-0.48140-0.82000.h5\n",
      "Epoch 28/30\n",
      "34/34 [==============================] - 15s 444ms/step - loss: 0.5808 - categorical_accuracy: 0.7516 - val_loss: 0.6733 - val_categorical_accuracy: 0.7000\n",
      "\n",
      "Epoch 00028: saving model to model_init_2020-11-0915_09_01.811273/model-00028-0.58077-0.75163-0.67328-0.70000.h5\n",
      "Epoch 29/30\n",
      "34/34 [==============================] - 14s 420ms/step - loss: 0.4277 - categorical_accuracy: 0.8399 - val_loss: 0.5477 - val_categorical_accuracy: 0.8000\n",
      "\n",
      "Epoch 00029: saving model to model_init_2020-11-0915_09_01.811273/model-00029-0.42772-0.83987-0.54774-0.80000.h5\n",
      "\n",
      "Epoch 00029: ReduceLROnPlateau reducing learning rate to 1.5625000742147677e-05.\n",
      "Epoch 30/30\n",
      "34/34 [==============================] - 15s 433ms/step - loss: 0.5091 - categorical_accuracy: 0.7941 - val_loss: 0.6043 - val_categorical_accuracy: 0.7200\n",
      "\n",
      "Epoch 00030: saving model to model_init_2020-11-0915_09_01.811273/model-00030-0.50909-0.79412-0.60428-0.72000.h5\n"
     ]
    }
   ],
   "source": [
    "model_history=model.fit_generator(train_generator, steps_per_epoch=steps_per_epoch, epochs=num_epochs, verbose=1, \n",
    "                    callbacks=callbacks_list, validation_data=val_generator, \n",
    "                    validation_steps=validation_steps, class_weight=None, workers=1, initial_epoch=0)"
   ]
  },
  {
   "cell_type": "code",
   "execution_count": 98,
   "metadata": {},
   "outputs": [],
   "source": [
    "def plot(history):\n",
    "    fig, axes = plt.subplots(nrows=1, ncols=2, figsize=(15,4))\n",
    "    axes[0].plot(history.history['loss'])   \n",
    "    axes[0].plot(history.history['val_loss'])\n",
    "    axes[0].legend(['loss','val_loss'])\n",
    "\n",
    "    axes[1].plot(history.history['categorical_accuracy'])   \n",
    "    axes[1].plot(history.history['val_categorical_accuracy'])\n",
    "    axes[1].legend(['categorical_accuracy','val_categorical_accuracy'])"
   ]
  },
  {
   "cell_type": "code",
   "execution_count": 99,
   "metadata": {},
   "outputs": [
    {
     "data": {
      "image/png": "[encoded data removed]",
      "text/plain": [
       "<Figure size 1080x288 with 2 Axes>"
      ]
     },
     "metadata": {},
     "output_type": "display_data"
    }
   ],
   "source": [
    "plot(model_history)"
   ]
  },
  {
   "cell_type": "markdown",
   "metadata": {},
   "source": [
    "__The best weights of model is on epoch 29/30 : model-00029-0.42772-0.83987-0.54774-0.80000.h5 . \n"
   ]
  },
  {
   "cell_type": "code",
   "execution_count": null,
   "metadata": {},
   "outputs": [],
   "source": []
  }
 ],
 "metadata": {
  "kernelspec": {
   "display_name": "Python 3",
   "language": "python",
   "name": "python3"
  },
  "language_info": {
   "codemirror_mode": {
    "name": "ipython",
    "version": 3
   },
   "file_extension": ".py",
   "mimetype": "text/x-python",
   "name": "python",
   "nbconvert_exporter": "python",
   "pygments_lexer": "ipython3",
   "version": "3.7.4"
  }
 },
 "nbformat": 4,
 "nbformat_minor": 2
}
